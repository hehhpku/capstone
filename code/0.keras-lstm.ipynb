{
 "cells": [
  {
   "cell_type": "markdown",
   "metadata": {},
   "source": [
    "## 使用keras构建LSTM模型\n",
    "__author__ = 'hehuihui@caicloud.io'"
   ]
  },
  {
   "cell_type": "code",
   "execution_count": 1,
   "metadata": {},
   "outputs": [
    {
     "name": "stderr",
     "output_type": "stream",
     "text": [
      "Using TensorFlow backend.\n"
     ]
    }
   ],
   "source": [
    "import numpy as np\n",
    "import pandas as pd\n",
    "\n",
    "from keras.models import Sequential, Input\n",
    "from keras.layers import Dense, LSTM, Dropout, BatchNormalization\n",
    "from sklearn.preprocessing import StandardScaler, MinMaxScaler"
   ]
  },
  {
   "cell_type": "markdown",
   "metadata": {},
   "source": [
    "## 1. 数据读取"
   ]
  },
  {
   "cell_type": "code",
   "execution_count": 2,
   "metadata": {
    "collapsed": true
   },
   "outputs": [],
   "source": [
    "input_file = '../data/000002-万科A.csv'\n",
    "\n",
    "df = pd.read_csv(input_file)\n",
    "dataset = df.loc[:, 'open':'volume'].values  # 取从open到volume共5列的数据值\n",
    "#print df.head()"
   ]
  },
  {
   "cell_type": "markdown",
   "metadata": {},
   "source": [
    "## 2. 训练集和测试集划分"
   ]
  },
  {
   "cell_type": "code",
   "execution_count": 3,
   "metadata": {},
   "outputs": [],
   "source": [
    "def split_train_test(dataset, split_ratio=0.8):\n",
    "    ''' 划分训练集和测试集\n",
    "    # Args\n",
    "        dataset: np.ndarray, 待划分的数据集\n",
    "        split_ratio: float, 训练集所占比例\n",
    "    # Returns\n",
    "        X_train, Y_train: np.ndarray, 训练集中的特征和标签\n",
    "        X_test, Y_test: np.ndarray, 测试集中的特征和标签\n",
    "    '''\n",
    "    N = int(len(dataset) * split_ratio) # 训练集与测试集的分界点\n",
    "    \n",
    "    X_train = dataset[:N, :]\n",
    "    Y_train = dataset[:N, 1].reshape(-1, 1) #以收盘价为标签，并将维度从(?)扩展为(?, 1)\n",
    "    \n",
    "    X_test = dataset[N:, :]\n",
    "    Y_test = dataset[N:, 1].reshape(-1, 1)\n",
    "    return X_train, Y_train, X_test, Y_test\n",
    "\n",
    "X_train, Y_train, X_test, Y_test = split_train_test(dataset, split_ratio=0.8)\n",
    "#print X_train.shape, Y_train.shape, X_test.shape, Y_test.shape"
   ]
  },
  {
   "cell_type": "markdown",
   "metadata": {},
   "source": [
    "## 3. 数据归一化"
   ]
  },
  {
   "cell_type": "code",
   "execution_count": 4,
   "metadata": {},
   "outputs": [],
   "source": [
    "def scale_dataset(train_set, test_set):\n",
    "    ''' 对数据集做归一化处理\n",
    "    # Args:\n",
    "        train_set: np.ndarray, 训练集\n",
    "        test_set: np.ndarray, 测试集\n",
    "    # Returns:\n",
    "        scaler: MinMaxScaler, 归一化处理器\n",
    "        train_set: np.ndarray, 归一化后的训练集\n",
    "        test_set: np.ndarray, 归一化后的测试集\n",
    "    '''\n",
    "    scaler = MinMaxScaler()\n",
    "    scaler.fit(train_set) # 注意：为防止用到未来数据，此处只能使用训练集来生成归一化处理器\n",
    "    \n",
    "    train_set = scaler.transform(train_set) # 训练集归一化\n",
    "    test_set = scaler.transform(test_set)   # 测试集归一化\n",
    "    \n",
    "    return scaler, train_set, test_set\n",
    "\n",
    "X_scaler, X_train, X_test = scale_dataset(X_train, X_test)\n",
    "Y_scaler, Y_train, Y_test = scale_dataset(Y_train, Y_test)\n"
   ]
  },
  {
   "cell_type": "markdown",
   "metadata": {},
   "source": [
    "## 4. LSTM数据集生成"
   ]
  },
  {
   "cell_type": "code",
   "execution_count": 5,
   "metadata": {},
   "outputs": [],
   "source": [
    "def create_LSTM_dataset(X, Y, time_steps=20):\n",
    "    ''' 生成LSTM训练所需的数据集格式\n",
    "    # Args\n",
    "        X: np.2D-array, 特征矩阵\n",
    "        Y: np.2D-array, 标签矩阵\n",
    "        time_steps: int, 使用多少天的数据作为特征\n",
    "    # Returns:\n",
    "        X_dataset, y_dataset: (np.3D-array, np.2D-array)，特征数据集、标签数据集\n",
    "    '''\n",
    "    X_list, Y_list = [], []\n",
    "    assert(len(X) == len(Y))\n",
    "    for i in range(len(X) - time_steps - 1):\n",
    "        X_list.append(X[i:(i + time_steps), :])\n",
    "        Y_list.append(Y[(i + 1):(i + time_steps + 1), :])\n",
    "    return np.array(X_list), np.squeeze(Y_list)\n",
    "\n",
    "train_X, train_y = create_LSTM_dataset(X_train, Y_train)\n",
    "test_X, test_y = create_LSTM_dataset(X_test, Y_test)\n",
    "\n",
    "#print train_X.shape, train_y.shape, test_X.shape, test_y.shape"
   ]
  },
  {
   "cell_type": "markdown",
   "metadata": {},
   "source": [
    "## 5. LSTM模型定义（使用keras）"
   ]
  },
  {
   "cell_type": "code",
   "execution_count": 6,
   "metadata": {},
   "outputs": [],
   "source": [
    "def build_LSTM_model(time_steps=20, feature_dim=5):\n",
    "    model = Sequential()\n",
    "    model.add(LSTM(128, input_shape=(time_steps, feature_dim), dropout=0.8))\n",
    "    model.add(Dense(64, activation='relu'))\n",
    "    model.add(Dropout(0.5))\n",
    "    model.add(Dense(time_steps, activation='relu'))\n",
    "    \n",
    "    model.compile(optimizer='sgd', loss='mse', metrics=['mae'])\n",
    "    return model\n",
    "\n",
    "model = build_LSTM_model(20)\n",
    "#print(model.summary())"
   ]
  },
  {
   "cell_type": "markdown",
   "metadata": {},
   "source": [
    "## 6. LSTM模型训练"
   ]
  },
  {
   "cell_type": "code",
   "execution_count": 7,
   "metadata": {},
   "outputs": [
    {
     "name": "stdout",
     "output_type": "stream",
     "text": [
      "Train on 831 samples, validate on 193 samples\n",
      "Epoch 1/20\n",
      "4s - loss: 0.0868 - mean_absolute_error: 0.2161 - val_loss: 0.5050 - val_mean_absolute_error: 0.6999\n",
      "Epoch 2/20\n",
      "3s - loss: 0.0819 - mean_absolute_error: 0.2043 - val_loss: 0.4841 - val_mean_absolute_error: 0.6839\n",
      "Epoch 3/20\n",
      "3s - loss: 0.0777 - mean_absolute_error: 0.1949 - val_loss: 0.4639 - val_mean_absolute_error: 0.6678\n",
      "Epoch 4/20\n",
      "3s - loss: 0.0754 - mean_absolute_error: 0.1892 - val_loss: 0.4439 - val_mean_absolute_error: 0.6516\n",
      "Epoch 5/20\n",
      "3s - loss: 0.0721 - mean_absolute_error: 0.1837 - val_loss: 0.4247 - val_mean_absolute_error: 0.6360\n",
      "Epoch 6/20\n",
      "3s - loss: 0.0688 - mean_absolute_error: 0.1783 - val_loss: 0.4067 - val_mean_absolute_error: 0.6211\n",
      "Epoch 7/20\n",
      "3s - loss: 0.0674 - mean_absolute_error: 0.1754 - val_loss: 0.3905 - val_mean_absolute_error: 0.6075\n",
      "Epoch 8/20\n",
      "3s - loss: 0.0647 - mean_absolute_error: 0.1720 - val_loss: 0.3750 - val_mean_absolute_error: 0.5946\n",
      "Epoch 9/20\n",
      "3s - loss: 0.0642 - mean_absolute_error: 0.1712 - val_loss: 0.3614 - val_mean_absolute_error: 0.5829\n",
      "Epoch 10/20\n",
      "3s - loss: 0.0627 - mean_absolute_error: 0.1699 - val_loss: 0.3489 - val_mean_absolute_error: 0.5719\n",
      "Epoch 11/20\n",
      "3s - loss: 0.0614 - mean_absolute_error: 0.1677 - val_loss: 0.3384 - val_mean_absolute_error: 0.5628\n",
      "Epoch 12/20\n",
      "3s - loss: 0.0604 - mean_absolute_error: 0.1664 - val_loss: 0.3277 - val_mean_absolute_error: 0.5532\n",
      "Epoch 13/20\n",
      "4s - loss: 0.0596 - mean_absolute_error: 0.1649 - val_loss: 0.3187 - val_mean_absolute_error: 0.5449\n",
      "Epoch 14/20\n",
      "3s - loss: 0.0582 - mean_absolute_error: 0.1644 - val_loss: 0.3111 - val_mean_absolute_error: 0.5378\n",
      "Epoch 15/20\n",
      "3s - loss: 0.0583 - mean_absolute_error: 0.1639 - val_loss: 0.3047 - val_mean_absolute_error: 0.5319\n",
      "Epoch 16/20\n",
      "3s - loss: 0.0568 - mean_absolute_error: 0.1608 - val_loss: 0.2994 - val_mean_absolute_error: 0.5271\n",
      "Epoch 17/20\n",
      "3s - loss: 0.0567 - mean_absolute_error: 0.1621 - val_loss: 0.2946 - val_mean_absolute_error: 0.5229\n",
      "Epoch 18/20\n",
      "3s - loss: 0.0541 - mean_absolute_error: 0.1577 - val_loss: 0.2901 - val_mean_absolute_error: 0.5188\n",
      "Epoch 19/20\n",
      "4s - loss: 0.0542 - mean_absolute_error: 0.1577 - val_loss: 0.2844 - val_mean_absolute_error: 0.5133\n",
      "Epoch 20/20\n",
      "4s - loss: 0.0535 - mean_absolute_error: 0.1563 - val_loss: 0.2792 - val_mean_absolute_error: 0.5083\n"
     ]
    }
   ],
   "source": [
    "history = model.fit(train_X, train_y, \n",
    "                    epochs=20, verbose=2, batch_size=16, shuffle=False, \n",
    "                    validation_data=(test_X, test_y))"
   ]
  },
  {
   "cell_type": "markdown",
   "metadata": {},
   "source": [
    "## 7. 训练误差可视化"
   ]
  },
  {
   "cell_type": "code",
   "execution_count": 8,
   "metadata": {},
   "outputs": [
    {
     "data": {
      "image/png": "[encoded data removed]",
      "text/plain": [
       "<matplotlib.figure.Figure at 0x1202436d0>"
      ]
     },
     "metadata": {},
     "output_type": "display_data"
    }
   ],
   "source": [
    "%matplotlib inline\n",
    "import matplotlib.pyplot as plot\n",
    "\n",
    "plot.figure(figsize=(10, 8))\n",
    "plot.plot(history.history['loss'], label='train_loss')\n",
    "plot.plot(history.history['val_loss'], label='val_loss')\n",
    "plot.legend()\n",
    "plot.show()"
   ]
  },
  {
   "cell_type": "markdown",
   "metadata": {
    "collapsed": true
   },
   "source": [
    "# TODO：\n",
    "### 特征工程\n",
    "### 模型参数调优\n",
    "### 模型评估与模型预测\n",
    "### 数据可视化"
   ]
  },
  {
   "cell_type": "code",
   "execution_count": null,
   "metadata": {
    "collapsed": true
   },
   "outputs": [],
   "source": []
  }
 ],
 "metadata": {
  "kernelspec": {
   "display_name": "Python 3",
   "language": "python",
   "name": "python3"
  },
  "language_info": {
   "codemirror_mode": {
    "name": "ipython",
    "version": 3
   },
   "file_extension": ".py",
   "mimetype": "text/x-python",
   "name": "python",
   "nbconvert_exporter": "python",
   "pygments_lexer": "ipython3",
   "version": "3.6.5"
  }
 },
 "nbformat": 4,
 "nbformat_minor": 2
}
