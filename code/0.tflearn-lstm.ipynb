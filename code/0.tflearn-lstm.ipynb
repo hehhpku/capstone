{
 "cells": [
  {
   "cell_type": "markdown",
   "metadata": {},
   "source": [
    "## 使用tflearn构建LSTM模型\n",
    "__author__ = 'hehuihui@caicloud.io'"
   ]
  },
  {
   "cell_type": "code",
   "execution_count": 1,
   "metadata": {},
   "outputs": [],
   "source": [
    "import numpy as np\n",
    "import pandas as pd\n",
    "\n",
    "import tflearn\n",
    "from sklearn.preprocessing import StandardScaler, MinMaxScaler"
   ]
  },
  {
   "cell_type": "markdown",
   "metadata": {},
   "source": [
    "## 1. 数据读取"
   ]
  },
  {
   "cell_type": "code",
   "execution_count": 2,
   "metadata": {
    "scrolled": true
   },
   "outputs": [],
   "source": [
    "input_file = '../data/000002.csv'\n",
    "\n",
    "df = pd.read_csv(input_file)\n",
    "dataset = df.loc[:, 'open':'volume'].values  # 取从open到volume共5列的数据值\n",
    "#print df.head()"
   ]
  },
  {
   "cell_type": "markdown",
   "metadata": {},
   "source": [
    "## 2. 训练集和测试集划分"
   ]
  },
  {
   "cell_type": "code",
   "execution_count": 3,
   "metadata": {},
   "outputs": [],
   "source": [
    "def split_train_test(dataset, split_ratio=0.8):\n",
    "    ''' 划分训练集和测试集\n",
    "    # Args\n",
    "        dataset: np.ndarray, 待划分的数据集\n",
    "        split_ratio: float, 训练集所占比例\n",
    "    # Returns\n",
    "        X_train, Y_train: np.ndarray, 训练集中的特征和标签\n",
    "        X_test, Y_test: np.ndarray, 测试集中的特征和标签\n",
    "    '''\n",
    "    N = int(len(dataset) * split_ratio) # 训练集与测试集的分界点\n",
    "    \n",
    "    X_train = dataset[:N, :]\n",
    "    Y_train = dataset[:N, 1].reshape(-1, 1) #以收盘价为标签，并将维度从(?)扩展为(?, 1)\n",
    "    \n",
    "    X_test = dataset[N:, :]\n",
    "    Y_test = dataset[N:, 1].reshape(-1, 1)\n",
    "    return X_train, Y_train, X_test, Y_test\n",
    "\n",
    "X_train, Y_train, X_test, Y_test = split_train_test(dataset, split_ratio=0.8)\n",
    "#print X_train.shape, Y_train.shape, X_test.shape, Y_test.shape"
   ]
  },
  {
   "cell_type": "markdown",
   "metadata": {},
   "source": [
    "## 3. 数据归一化"
   ]
  },
  {
   "cell_type": "code",
   "execution_count": 4,
   "metadata": {},
   "outputs": [],
   "source": [
    "def scale_dataset(train_set, test_set):\n",
    "    ''' 对数据集做归一化处理\n",
    "    # Args:\n",
    "        train_set: np.ndarray, 训练集\n",
    "        test_set: np.ndarray, 测试集\n",
    "    # Returns:\n",
    "        scaler: MinMaxScaler, 归一化处理器\n",
    "        train_set: np.ndarray, 归一化后的训练集\n",
    "        test_set: np.ndarray, 归一化后的测试集\n",
    "    '''\n",
    "    scaler = MinMaxScaler()\n",
    "    scaler.fit(train_set) # 注意：为防止用到未来数据，此处只能使用训练集来生成归一化处理器\n",
    "    \n",
    "    train_set = scaler.transform(train_set) # 训练集归一化\n",
    "    test_set = scaler.transform(test_set)   # 测试集归一化\n",
    "    \n",
    "    return scaler, train_set, test_set\n",
    "\n",
    "X_scaler, X_train, X_test = scale_dataset(X_train, X_test)\n",
    "Y_scaler, Y_train, Y_test = scale_dataset(Y_train, Y_test)\n"
   ]
  },
  {
   "cell_type": "markdown",
   "metadata": {},
   "source": [
    "## 4. LSTM数据集生成"
   ]
  },
  {
   "cell_type": "code",
   "execution_count": 5,
   "metadata": {},
   "outputs": [],
   "source": [
    "def create_LSTM_dataset(X, Y, time_steps=20):\n",
    "    ''' 生成LSTM训练所需的数据集格式\n",
    "    # Args\n",
    "        X: np.2D-array, 特征矩阵\n",
    "        Y: np.2D-array, 标签矩阵\n",
    "        time_steps: int, 使用多少天的数据作为特征\n",
    "    # Returns:\n",
    "        X_dataset, y_dataset: (np.3D-array, np.2D-array)，特征数据集、标签数据集\n",
    "    '''\n",
    "    X_list, Y_list = [], []\n",
    "    assert(len(X) == len(Y))\n",
    "    for i in range(len(X) - time_steps - 1):\n",
    "        X_list.append(X[i:(i + time_steps), :])\n",
    "        Y_list.append(Y[(i + 1):(i + time_steps + 1), :])\n",
    "    return np.array(X_list), np.squeeze(Y_list)\n",
    "\n",
    "train_X, train_y = create_LSTM_dataset(X_train, Y_train)\n",
    "test_X, test_y = create_LSTM_dataset(X_test, Y_test)\n",
    "\n",
    "#print train_X.shape, train_y.shape, test_X.shape, test_y.shape"
   ]
  },
  {
   "cell_type": "markdown",
   "metadata": {},
   "source": [
    "## 5. LSTM模型定义（使用tflearn）"
   ]
  },
  {
   "cell_type": "code",
   "execution_count": 6,
   "metadata": {},
   "outputs": [],
   "source": [
    "def build_LSTM_model(time_steps=20, feature_dim=5):\n",
    "    net = tflearn.input_data(shape=[None, time_steps, feature_dim])\n",
    "    net = tflearn.lstm(net, 128, dropout=0.8)\n",
    "    net = tflearn.fully_connected(net, 64, activation='relu')\n",
    "    net = tflearn.fully_connected(net, time_steps, activation='relu')\n",
    "    reg = tflearn.regression(net, optimizer='adam', loss='mean_square')\n",
    "    \n",
    "    model = tflearn.DNN(net, tensorboard_verbose=0)\n",
    "    return model\n",
    "\n",
    "model = build_LSTM_model(20)"
   ]
  },
  {
   "cell_type": "markdown",
   "metadata": {},
   "source": [
    "## 6. LSTM模型训练"
   ]
  },
  {
   "cell_type": "code",
   "execution_count": 7,
   "metadata": {},
   "outputs": [
    {
     "name": "stdout",
     "output_type": "stream",
     "text": [
      "Training Step: 519  | total loss: \u001b[1m\u001b[32m0.01276\u001b[0m\u001b[0m | time: 1.280s\n",
      "| Adam | epoch: 010 | loss: 0.01276 - acc: 0.0986 -- iter: 816/831\n",
      "Training Step: 520  | total loss: \u001b[1m\u001b[32m0.01256\u001b[0m\u001b[0m | time: 2.309s\n",
      "| Adam | epoch: 010 | loss: 0.01256 - acc: 0.0887 | val_loss: 0.05958 - val_acc: 0.0415 -- iter: 831/831\n",
      "--\n"
     ]
    }
   ],
   "source": [
    "history = model.fit(train_X, train_y, \n",
    "                    n_epoch=10, batch_size=16, show_metric=True, \n",
    "                    validation_set=(test_X, test_y))"
   ]
  },
  {
   "cell_type": "markdown",
   "metadata": {
    "collapsed": true
   },
   "source": [
    "# TODO：\n",
    "### 特征工程\n",
    "### 模型参数调优\n",
    "### 模型评估与模型预测\n",
    "### 数据可视化(训练误差、预测结果)"
   ]
  },
  {
   "cell_type": "code",
   "execution_count": null,
   "metadata": {
    "collapsed": true
   },
   "outputs": [],
   "source": []
  }
 ],
 "metadata": {
  "kernelspec": {
   "display_name": "Python 3",
   "language": "python",
   "name": "python3"
  },
  "language_info": {
   "codemirror_mode": {
    "name": "ipython",
    "version": 3
   },
   "file_extension": ".py",
   "mimetype": "text/x-python",
   "name": "python",
   "nbconvert_exporter": "python",
   "pygments_lexer": "ipython3",
   "version": "3.6.5"
  }
 },
 "nbformat": 4,
 "nbformat_minor": 2
}
