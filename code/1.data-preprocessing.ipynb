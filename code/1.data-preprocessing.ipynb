{
 "cells": [
  {
   "cell_type": "markdown",
   "metadata": {},
   "source": [
    "## 三、数据预处理\n",
    "__author__ = 'hehuihui@caicloud.io'"
   ]
  },
  {
   "cell_type": "code",
   "execution_count": 1,
   "metadata": {
    "collapsed": true
   },
   "outputs": [],
   "source": [
    "from __future__ import division\n",
    "\n",
    "import numpy as np\n",
    "import pandas as pd\n",
    "import matplotlib.pyplot as plt\n",
    "\n",
    "%matplotlib inline"
   ]
  },
  {
   "cell_type": "markdown",
   "metadata": {},
   "source": [
    "#### 读取数据"
   ]
  },
  {
   "cell_type": "code",
   "execution_count": 2,
   "metadata": {
    "collapsed": true
   },
   "outputs": [],
   "source": [
    "df = pd.read_csv('../data/000002.csv')\n",
    "df.drop('code', axis=1, inplace=True)"
   ]
  },
  {
   "cell_type": "markdown",
   "metadata": {},
   "source": [
    "#### a) 数据校验\n",
    "####     - 检查数据中是否有缺失值，过滤缺失值；\n"
   ]
  },
  {
   "cell_type": "code",
   "execution_count": 17,
   "metadata": {},
   "outputs": [
    {
     "name": "stdout",
     "output_type": "stream",
     "text": [
      "date          False\n",
      "open          False\n",
      "close         False\n",
      "high          False\n",
      "low           False\n",
      "volume        False\n",
      "pct_change     True\n",
      "dtype: bool\n",
      "\n",
      "\n",
      "date          False\n",
      "open          False\n",
      "close         False\n",
      "high          False\n",
      "low           False\n",
      "volume        False\n",
      "pct_change    False\n",
      "dtype: bool\n"
     ]
    }
   ],
   "source": [
    "# 查找每列是否有空值（结果都没有）\n",
    "print df.isnull().any()\n",
    "print '\\n'\n",
    "print df.isnull().all()"
   ]
  },
  {
   "cell_type": "code",
   "execution_count": 25,
   "metadata": {},
   "outputs": [
    {
     "data": {
      "text/html": [
       "<div>\n",
       "<table border=\"1\" class=\"dataframe\">\n",
       "  <thead>\n",
       "    <tr style=\"text-align: right;\">\n",
       "      <th></th>\n",
       "      <th>date</th>\n",
       "      <th>open</th>\n",
       "      <th>close</th>\n",
       "      <th>high</th>\n",
       "      <th>low</th>\n",
       "      <th>volume</th>\n",
       "      <th>pct_change</th>\n",
       "    </tr>\n",
       "  </thead>\n",
       "  <tbody>\n",
       "    <tr>\n",
       "      <th>0</th>\n",
       "      <td>2012-10-08</td>\n",
       "      <td>7.011</td>\n",
       "      <td>6.835</td>\n",
       "      <td>7.095</td>\n",
       "      <td>6.777</td>\n",
       "      <td>473161.0</td>\n",
       "      <td>NaN</td>\n",
       "    </tr>\n",
       "  </tbody>\n",
       "</table>\n",
       "</div>"
      ],
      "text/plain": [
       "         date   open  close   high    low    volume  pct_change\n",
       "0  2012-10-08  7.011  6.835  7.095  6.777  473161.0         NaN"
      ]
     },
     "execution_count": 25,
     "metadata": {},
     "output_type": "execute_result"
    }
   ],
   "source": [
    "# 加入一个空值\n",
    "df['pct_change'] = df['close'].pct_change() * 100\n",
    "df[df.isnull().values == True]"
   ]
  },
  {
   "cell_type": "code",
   "execution_count": 26,
   "metadata": {},
   "outputs": [
    {
     "data": {
      "text/html": [
       "<div>\n",
       "<table border=\"1\" class=\"dataframe\">\n",
       "  <thead>\n",
       "    <tr style=\"text-align: right;\">\n",
       "      <th></th>\n",
       "      <th>date</th>\n",
       "      <th>open</th>\n",
       "      <th>close</th>\n",
       "      <th>high</th>\n",
       "      <th>low</th>\n",
       "      <th>volume</th>\n",
       "      <th>pct_change</th>\n",
       "    </tr>\n",
       "  </thead>\n",
       "  <tbody>\n",
       "    <tr>\n",
       "      <th>1</th>\n",
       "      <td>2012-10-09</td>\n",
       "      <td>6.860</td>\n",
       "      <td>7.003</td>\n",
       "      <td>7.028</td>\n",
       "      <td>6.852</td>\n",
       "      <td>487942.0</td>\n",
       "      <td>2.457937</td>\n",
       "    </tr>\n",
       "    <tr>\n",
       "      <th>2</th>\n",
       "      <td>2012-10-10</td>\n",
       "      <td>7.011</td>\n",
       "      <td>7.003</td>\n",
       "      <td>7.011</td>\n",
       "      <td>6.869</td>\n",
       "      <td>507343.0</td>\n",
       "      <td>0.000000</td>\n",
       "    </tr>\n",
       "    <tr>\n",
       "      <th>3</th>\n",
       "      <td>2012-10-11</td>\n",
       "      <td>6.978</td>\n",
       "      <td>6.944</td>\n",
       "      <td>6.978</td>\n",
       "      <td>6.885</td>\n",
       "      <td>254369.0</td>\n",
       "      <td>-0.842496</td>\n",
       "    </tr>\n",
       "    <tr>\n",
       "      <th>4</th>\n",
       "      <td>2012-10-12</td>\n",
       "      <td>6.969</td>\n",
       "      <td>6.902</td>\n",
       "      <td>7.020</td>\n",
       "      <td>6.860</td>\n",
       "      <td>311356.0</td>\n",
       "      <td>-0.604839</td>\n",
       "    </tr>\n",
       "    <tr>\n",
       "      <th>5</th>\n",
       "      <td>2012-10-15</td>\n",
       "      <td>6.919</td>\n",
       "      <td>6.860</td>\n",
       "      <td>6.919</td>\n",
       "      <td>6.818</td>\n",
       "      <td>213705.0</td>\n",
       "      <td>-0.608519</td>\n",
       "    </tr>\n",
       "  </tbody>\n",
       "</table>\n",
       "</div>"
      ],
      "text/plain": [
       "         date   open  close   high    low    volume  pct_change\n",
       "1  2012-10-09  6.860  7.003  7.028  6.852  487942.0    2.457937\n",
       "2  2012-10-10  7.011  7.003  7.011  6.869  507343.0    0.000000\n",
       "3  2012-10-11  6.978  6.944  6.978  6.885  254369.0   -0.842496\n",
       "4  2012-10-12  6.969  6.902  7.020  6.860  311356.0   -0.604839\n",
       "5  2012-10-15  6.919  6.860  6.919  6.818  213705.0   -0.608519"
      ]
     },
     "execution_count": 26,
     "metadata": {},
     "output_type": "execute_result"
    }
   ],
   "source": [
    "# 过滤缺失值\n",
    "df.dropna(how='any', axis=0).head()"
   ]
  },
  {
   "cell_type": "code",
   "execution_count": 27,
   "metadata": {},
   "outputs": [
    {
     "data": {
      "text/html": [
       "<div>\n",
       "<table border=\"1\" class=\"dataframe\">\n",
       "  <thead>\n",
       "    <tr style=\"text-align: right;\">\n",
       "      <th></th>\n",
       "      <th>date</th>\n",
       "      <th>open</th>\n",
       "      <th>close</th>\n",
       "      <th>high</th>\n",
       "      <th>low</th>\n",
       "      <th>volume</th>\n",
       "      <th>pct_change</th>\n",
       "    </tr>\n",
       "  </thead>\n",
       "  <tbody>\n",
       "    <tr>\n",
       "      <th>0</th>\n",
       "      <td>2012-10-08</td>\n",
       "      <td>7.011</td>\n",
       "      <td>6.835</td>\n",
       "      <td>7.095</td>\n",
       "      <td>6.777</td>\n",
       "      <td>473161.0</td>\n",
       "      <td>2.457937</td>\n",
       "    </tr>\n",
       "    <tr>\n",
       "      <th>1</th>\n",
       "      <td>2012-10-09</td>\n",
       "      <td>6.860</td>\n",
       "      <td>7.003</td>\n",
       "      <td>7.028</td>\n",
       "      <td>6.852</td>\n",
       "      <td>487942.0</td>\n",
       "      <td>2.457937</td>\n",
       "    </tr>\n",
       "    <tr>\n",
       "      <th>2</th>\n",
       "      <td>2012-10-10</td>\n",
       "      <td>7.011</td>\n",
       "      <td>7.003</td>\n",
       "      <td>7.011</td>\n",
       "      <td>6.869</td>\n",
       "      <td>507343.0</td>\n",
       "      <td>0.000000</td>\n",
       "    </tr>\n",
       "    <tr>\n",
       "      <th>3</th>\n",
       "      <td>2012-10-11</td>\n",
       "      <td>6.978</td>\n",
       "      <td>6.944</td>\n",
       "      <td>6.978</td>\n",
       "      <td>6.885</td>\n",
       "      <td>254369.0</td>\n",
       "      <td>-0.842496</td>\n",
       "    </tr>\n",
       "    <tr>\n",
       "      <th>4</th>\n",
       "      <td>2012-10-12</td>\n",
       "      <td>6.969</td>\n",
       "      <td>6.902</td>\n",
       "      <td>7.020</td>\n",
       "      <td>6.860</td>\n",
       "      <td>311356.0</td>\n",
       "      <td>-0.604839</td>\n",
       "    </tr>\n",
       "  </tbody>\n",
       "</table>\n",
       "</div>"
      ],
      "text/plain": [
       "         date   open  close   high    low    volume  pct_change\n",
       "0  2012-10-08  7.011  6.835  7.095  6.777  473161.0    2.457937\n",
       "1  2012-10-09  6.860  7.003  7.028  6.852  487942.0    2.457937\n",
       "2  2012-10-10  7.011  7.003  7.011  6.869  507343.0    0.000000\n",
       "3  2012-10-11  6.978  6.944  6.978  6.885  254369.0   -0.842496\n",
       "4  2012-10-12  6.969  6.902  7.020  6.860  311356.0   -0.604839"
      ]
     },
     "execution_count": 27,
     "metadata": {},
     "output_type": "execute_result"
    }
   ],
   "source": [
    "# 填充缺失值(采用bfill后向填充，以后边第一个值填充)\n",
    "df.fillna(method='bfill').head()"
   ]
  },
  {
   "cell_type": "markdown",
   "metadata": {},
   "source": [
    "#### - 检查数据中是否有涨跌幅>10.5%的值"
   ]
  },
  {
   "cell_type": "code",
   "execution_count": 29,
   "metadata": {},
   "outputs": [
    {
     "data": {
      "text/html": [
       "<div>\n",
       "<table border=\"1\" class=\"dataframe\">\n",
       "  <thead>\n",
       "    <tr style=\"text-align: right;\">\n",
       "      <th></th>\n",
       "      <th>date</th>\n",
       "      <th>open</th>\n",
       "      <th>close</th>\n",
       "      <th>high</th>\n",
       "      <th>low</th>\n",
       "      <th>volume</th>\n",
       "      <th>pct_change</th>\n",
       "    </tr>\n",
       "  </thead>\n",
       "  <tbody>\n",
       "  </tbody>\n",
       "</table>\n",
       "</div>"
      ],
      "text/plain": [
       "Empty DataFrame\n",
       "Columns: [date, open, close, high, low, volume, pct_change]\n",
       "Index: []"
      ]
     },
     "execution_count": 29,
     "metadata": {},
     "output_type": "execute_result"
    }
   ],
   "source": [
    "index = df['pct_change'].apply(lambda x: x > 10.5 or x < -10.5)\n",
    "df.loc[index, :]"
   ]
  },
  {
   "cell_type": "markdown",
   "metadata": {},
   "source": [
    "#### b) 数据归一化：使用Scaler对数据进行归一化和还原（反归一化）"
   ]
  },
  {
   "cell_type": "code",
   "execution_count": 35,
   "metadata": {
    "collapsed": true
   },
   "outputs": [],
   "source": [
    "# http://scikit-learn.org/stable/modules/preprocessing.html\n",
    "from sklearn.preprocessing import MinMaxScaler, StandardScaler\n",
    "\n",
    "# 取开盘价、收盘价、最高价、最低价\n",
    "X = df.loc[:, 'open':'volume'].values\n",
    "\n",
    "# 定义归一化器\n",
    "scaler = MinMaxScaler()\n",
    "# 归一化\n",
    "X_transformed = scaler.fit_transform(df_values)\n",
    "# 反归一化\n",
    "X_inverse_transformed = scaler.inverse_transform(X_transformed)\n",
    "\n",
    "#print X_transformed\n",
    "#pd.DataFrame(X_inverse_transformed)"
   ]
  },
  {
   "cell_type": "markdown",
   "metadata": {},
   "source": [
    "#### c) 交叉验证：使用Cross Validation对股票时间序列数据做交叉验证，生成训练集和测试集"
   ]
  },
  {
   "cell_type": "code",
   "execution_count": 45,
   "metadata": {},
   "outputs": [
    {
     "name": "stdout",
     "output_type": "stream",
     "text": [
      "[0 1 2 3 4 5 6 7 8 9] [258 259 260 261 262 263 264 265 266 267]\n",
      "[268 269 270 271 272 273 274 275 276 277] [524 525 526 527 528 529 530 531 532 533]\n",
      "\n",
      "[0 1 2 3 4 5 6 7 8 9] [524 525 526 527 528 529 530 531 532 533]\n",
      "[534 535 536 537 538 539 540 541 542 543] [790 791 792 793 794 795 796 797 798 799]\n",
      "\n",
      "[0 1 2 3 4 5 6 7 8 9] [790 791 792 793 794 795 796 797 798 799]\n",
      "[800 801 802 803 804 805 806 807 808 809] [1056 1057 1058 1059 1060 1061 1062 1063 1064 1065]\n",
      "\n"
     ]
    }
   ],
   "source": [
    "# http://scikit-learn.org/stable/modules/cross_validation.html#cross-validation-of-time-series-data\n",
    "# 时间序列的交叉验证有些特别，需要考虑时间先后顺序\n",
    "# 测试集的时间要比训练集晚\n",
    "\n",
    "from sklearn.model_selection import TimeSeriesSplit\n",
    "\n",
    "# 使用TimeSeriesSplit对时间序列进行交叉划分，CV次数为3\n",
    "tscv = TimeSeriesSplit(n_splits=3)\n",
    "\n",
    "# 获取训练集和测试集的索引\n",
    "for train, test in tscv.split(X):\n",
    "    print(\"%s %s\" % (train[:10], train[-10:]))\n",
    "    print(\"%s %s\\n\" % (test[:10], test[-10:]))\n",
    "\n",
    "# 训练集和测试集\n",
    "X_train = X[train]\n",
    "X_test = X[test]"
   ]
  },
  {
   "cell_type": "code",
   "execution_count": null,
   "metadata": {
    "collapsed": true
   },
   "outputs": [],
   "source": []
  }
 ],
 "metadata": {
  "kernelspec": {
   "display_name": "Python 3",
   "language": "python",
   "name": "python3"
  },
  "language_info": {
   "codemirror_mode": {
    "name": "ipython",
    "version": 3
   },
   "file_extension": ".py",
   "mimetype": "text/x-python",
   "name": "python",
   "nbconvert_exporter": "python",
   "pygments_lexer": "ipython3",
   "version": "3.6.5"
  }
 },
 "nbformat": 4,
 "nbformat_minor": 2
}
