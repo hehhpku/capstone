{
 "cells": [
  {
   "cell_type": "markdown",
   "metadata": {},
   "source": [
    "## 第四周：量化交易策略\n",
    "__author__ = 'hehuihui@caicloud.io'\n",
    "#### 前半部分为特征工程、模型训练；后半部分为模型预测，量化交易策略\n"
   ]
  },
  {
   "cell_type": "code",
   "execution_count": 1,
   "metadata": {},
   "outputs": [
    {
     "name": "stderr",
     "output_type": "stream",
     "text": [
      "Using TensorFlow backend.\n"
     ]
    }
   ],
   "source": [
    "from __future__ import division\n",
    "\n",
    "import numpy as np\n",
    "import pandas as pd\n",
    "import talib\n",
    "\n",
    "import keras\n",
    "import tflearn\n",
    "\n",
    "# 设置随机数种子，使得训练结果可重现\n",
    "np.random.seed(0)\n",
    "\n",
    "# 设置屏幕最大可显示的pandas行数与列数，方便查看数据\n",
    "pd.set_option('display.max_columns', 200)\n",
    "pd.set_option('display.max_rows', 200)"
   ]
  },
  {
   "cell_type": "markdown",
   "metadata": {},
   "source": [
    "#### 读取数据"
   ]
  },
  {
   "cell_type": "code",
   "execution_count": 2,
   "metadata": {
    "collapsed": true
   },
   "outputs": [],
   "source": [
    "df = pd.read_csv(\"../data/000002.csv\")\n",
    "df.drop('code', axis=1, inplace=True)"
   ]
  },
  {
   "cell_type": "markdown",
   "metadata": {},
   "source": [
    "#### a)\t前5、10、20、40个交易日内的平均成交量、上涨时的平均成交量、下跌时的平均成交量\n"
   ]
  },
  {
   "cell_type": "code",
   "execution_count": 3,
   "metadata": {},
   "outputs": [],
   "source": [
    "# 计算前5、10、20、40个交易日内的平均成交量\n",
    "for w in [5, 10, 20, 40]:\n",
    "    column = 'volume-mean-%d' % (w)\n",
    "    df[column] = df['volume'].rolling(window=w).mean()\n",
    "\n",
    "# 计算当天的涨跌幅\n",
    "pct_change = df['close'].pct_change().fillna(0)\n",
    "\n",
    "# 计算当天是否为涨，若为涨则取成交量，否则设为nan\n",
    "condition_up = pct_change.apply(lambda x: 1 if x > 0 else 0)\n",
    "volume_up = df['volume'] * condition_up\n",
    "\n",
    "# 计算当天是否为跌，若为跌则取成交量，否则设为nan\n",
    "condition_down = pct_change.apply(lambda x: 1 if x <= 0 else 0)\n",
    "volume_down = df['volume'] * condition_down"
   ]
  },
  {
   "cell_type": "code",
   "execution_count": 4,
   "metadata": {},
   "outputs": [],
   "source": [
    "def get_volume_mean(volume, condition, window):\n",
    "    ''' 统计前N日上涨或下跌时的平均成交量\n",
    "    Args:\n",
    "    -------------------------------------------\n",
    "        volume: pd.Series, 上涨(或下跌)时的成交量，若当天不是上涨(或下跌)，则成交量为np.nan\n",
    "        condition: pd.Series, 当天是否为上涨(或下跌)\n",
    "        window: int, 时间窗口 N=(5, 10, 20, 40)\n",
    "    Returns:\n",
    "    -------------------------------------------\n",
    "        volume_mean: pd.Series, 前N日上涨(或下跌)时的平均成交量\n",
    "    '''\n",
    "    # 平均成交量，最开始的N天设为nan\n",
    "    volume_mean = [np.nan] * window\n",
    "    # 遍历每一天，计算前N天的平均成交量\n",
    "    for i in range(window, len(volume)):\n",
    "        # 前N天内上涨或下跌的天数（注意：num可能为0）\n",
    "        num = sum(condition[i-window:i])\n",
    "        # 前N天内上涨或下跌的平均成交量\n",
    "        value = np.sum(volume[i-window:i]) / max(1, num)\n",
    "        volume_mean.append(value) \n",
    "    return volume_mean\n",
    "\n",
    "\n",
    "# 计算前5、10、20、40个交易日内，上涨或下跌时的平均成交量\n",
    "for w in [5, 10, 20, 40]:\n",
    "    # 上涨时的平均成交量\n",
    "    column = 'volume-up-mean-%d' % (w)\n",
    "    df[column] = get_volume_mean(volume_up, condition_up, w)\n",
    "    \n",
    "    # 下跌时的平均成交量\n",
    "    column = 'volume-down-mean-%d' % (w)\n",
    "    df[column] = get_volume_mean(volume_down, condition_down, w)\n",
    "\n",
    "# print df"
   ]
  },
  {
   "cell_type": "markdown",
   "metadata": {},
   "source": [
    "#### b)\t前5、10、20、40个交易日区间内的(收盘价-开盘价)/开盘价、(最高价-开盘价) /开盘价、(最低价-开盘价) /开盘价、(最高价-收盘价) /开盘价、(最低价-收盘价) /开盘价\n"
   ]
  },
  {
   "cell_type": "code",
   "execution_count": 5,
   "metadata": {
    "collapsed": true
   },
   "outputs": [],
   "source": [
    "for w in [5, 10, 20, 40]:\n",
    "    df['close-open-%d' % w] = (df['close'] - df['open']) / df['open']\n",
    "    df['high-open-%d' % w] = (df['high'] - df['open']) / df['open']\n",
    "    df['low-open-%d' % w] = (df['low'] - df['open']) / df['open']\n",
    "    df['high-close-%d' % w] = (df['high'] - df['close']) / df['open']\n",
    "    df['low-close-%d' % w] = (df['low'] - df['close']) / df['open']\n",
    "\n",
    "# 此指标衡量的是资金流入与流出之差（近似）\n",
    "for w in [1, 3, 5, 10]:\n",
    "    acc_amount = (df['high'] + df['low'] - df['open'] - df['close']) * df['volume']\n",
    "    df['acc-amount-%d' % w] = acc_amount.rolling(window=w).sum()"
   ]
  },
  {
   "cell_type": "markdown",
   "metadata": {},
   "source": [
    "#### d) 使用talib生成MACD、KDJ、RSI、EMV指标\n"
   ]
  },
  {
   "cell_type": "code",
   "execution_count": 6,
   "metadata": {},
   "outputs": [],
   "source": [
    "# MACD\n",
    "df['MACD'], df['MACD-signal'], df['MACD-hist'] = \\\n",
    "    talib.MACD(df['close'].values, fastperiod=12, slowperiod=26, signalperiod=9)\n",
    "\n",
    "# KDJ\n",
    "K, D = talib.STOCH(df['high'].values, df['low'].values, df['close'].values, \n",
    "                       fastk_period=9, slowk_period=3, slowd_period=3)\n",
    "J = 3*K - 2*D\n",
    "\n",
    "# KDJ\n",
    "df['KDJ-K'] = K\n",
    "df['KDJ-D'] = D\n",
    "df['KDJ-J'] = J\n",
    "\n",
    "# RSI\n",
    "for period in [6, 12, 24]:\n",
    "    df['RSI-%d' % (period)] = talib.RSI(df['close'].values, timeperiod=period)\n",
    "\n",
    "# EMV\n",
    "\n",
    "# 计算公式(https://www.joinquant.com/post/150)\n",
    "# 1.A=（今日最高+今日最低）/2\n",
    "#   B=（前日最高+前日最低）/2\n",
    "#   C=今日最高-今日最低\n",
    "# 2.EM=（A-B）*C/今日成交额\n",
    "# 3.EMV=N日内EM的累和\n",
    "\n",
    "diff = (df['high'] + df['low']) - (df['high'].shift(1) + df['low'].shift(1))\n",
    "mv = 1e8 * diff * (df['high'] - df['low']) / df['volume']\n",
    "df['EMV'] = mv.rolling(window=14).mean()\n",
    "df['MAEMV'] = df['EMV'].rolling(window=9).mean()"
   ]
  },
  {
   "cell_type": "code",
   "execution_count": null,
   "metadata": {},
   "outputs": [],
   "source": []
  },
  {
   "cell_type": "markdown",
   "metadata": {},
   "source": [
    "## 特征选择\n",
    "\n",
    "在机器学习的实际应用中，特征数量往往较多，其中可能存在不相关的特征，特征之间也可能存在相互依赖，容易导致：<br/>\n",
    "- 特征个数越多，分析特征、训练模型所需的时间也就越长\n",
    "- 特征个数越多，容易引起“维度灾难”，模型也会越复杂，其推广能力会下降。\n",
    "\n",
    "特征选择能剔除不相关（irrelevant）或亢余（redundant）的特征，从而达到减少特征个数，提高模型精确度，减少运行时间的目的。<br/>\n",
    "另一方面，选取出真正相关的特征简化了模型，是研究人员易于理解数据产生的过程"
   ]
  },
  {
   "cell_type": "code",
   "execution_count": 22,
   "metadata": {},
   "outputs": [],
   "source": [
    "# 生成标签\n",
    "# 注意此处的移位是-1，label是未来一天的收盘价➗当天的收盘价\n",
    "df['label'] = (df['close'].shift(-1) / df['close']).apply(lambda x: 1 if x > 1 else 0)\n",
    "\n",
    "# 过滤缺失值\n",
    "new_df = df.dropna(how='any').reset_index(drop=True)\n",
    "\n",
    "# 获取特征与标签\n",
    "dataset = new_df.iloc[:, 1:].values"
   ]
  },
  {
   "cell_type": "code",
   "execution_count": 14,
   "metadata": {
    "collapsed": true
   },
   "outputs": [],
   "source": [
    "def split_train_test(dataset, split_ratio=0.8):\n",
    "    ''' 划分训练集和测试集\n",
    "    # Args\n",
    "        dataset: np.ndarray, 待划分的数据集\n",
    "        split_ratio: float, 训练集所占比例\n",
    "    # Returns\n",
    "        X_train, Y_train: np.ndarray, 训练集中的特征和标签\n",
    "        X_test, Y_test: np.ndarray, 测试集中的特征和标签\n",
    "    '''\n",
    "    N = int(len(dataset) * split_ratio) # 训练集与测试集的分界点\n",
    "    \n",
    "    X_train = dataset[:N, :-1]\n",
    "    y_train = dataset[:N, -1]\n",
    "    \n",
    "    X_test = dataset[N:, :-1]\n",
    "    y_test = dataset[N:, -1]\n",
    "    return X_train, y_train, X_test, y_test\n",
    "\n",
    "X_train, y_train, X_test, y_test = split_train_test(dataset, split_ratio=0.8)"
   ]
  },
  {
   "cell_type": "code",
   "execution_count": 15,
   "metadata": {},
   "outputs": [],
   "source": [
    "# 特征归一化\n",
    "from sklearn.preprocessing import MinMaxScaler\n",
    "\n",
    "scaler = MinMaxScaler()\n",
    "X_train_transformed = scaler.fit_transform(X_train)\n",
    "X_test_transformed = scaler.transform(X_test)"
   ]
  },
  {
   "cell_type": "markdown",
   "metadata": {},
   "source": [
    "#### 卡方统计量"
   ]
  },
  {
   "cell_type": "code",
   "execution_count": 16,
   "metadata": {},
   "outputs": [
    {
     "name": "stderr",
     "output_type": "stream",
     "text": [
      "/System/Library/Frameworks/Python.framework/Versions/2.7/Extras/lib/python/scipy/sparse/compressed.py:130: VisibleDeprecationWarning: `rank` is deprecated; use the `ndim` attribute or function instead. To find the rank of a matrix see `numpy.linalg.matrix_rank`.\n",
      "  if np.rank(self.data) != 1 or np.rank(self.indices) != 1 or np.rank(self.indptr) != 1:\n",
      "/System/Library/Frameworks/Python.framework/Versions/2.7/Extras/lib/python/scipy/sparse/coo.py:200: VisibleDeprecationWarning: `rank` is deprecated; use the `ndim` attribute or function instead. To find the rank of a matrix see `numpy.linalg.matrix_rank`.\n",
      "  if np.rank(self.data) != 1 or np.rank(self.row) != 1 or np.rank(self.col) != 1:\n"
     ]
    }
   ],
   "source": [
    "# 对于分类问题，可使用的特征选择方法: chi2, f_classif, mutual_info_classif\n",
    "from sklearn.feature_selection import SelectKBest\n",
    "from sklearn.feature_selection import chi2, f_classif, mutual_info_classif\n",
    "\n",
    "K = 6    # 选择最好的K个特征（5-10）\n",
    "selector = SelectKBest(chi2, k=K)\n",
    "X_train_selected = selector.fit_transform(X_train_transformed, y_train)\n",
    "X_test_selected = selector.transform(X_test_transformed)"
   ]
  },
  {
   "cell_type": "code",
   "execution_count": null,
   "metadata": {
    "collapsed": true
   },
   "outputs": [],
   "source": []
  },
  {
   "cell_type": "markdown",
   "metadata": {},
   "source": [
    "### 生成LSTM所需的训练集与测试集"
   ]
  },
  {
   "cell_type": "code",
   "execution_count": 17,
   "metadata": {},
   "outputs": [],
   "source": [
    "def create_LSTM_dataset(X, y, time_steps=20):\n",
    "    ''' 生成LSTM训练所需的数据集格式\n",
    "    # Args\n",
    "        X: np.2D-array, 特征矩阵\n",
    "        y: np.1D-array, 标签矩阵\n",
    "        time_steps: int, 使用多少天的数据作为特征\n",
    "    # Returns:\n",
    "        X_dataset, y_dataset: (np.3D-array, np.2D-array)，特征数据集、标签数据集\n",
    "    '''\n",
    "    X_list, y_list = [], []\n",
    "    assert(len(X) == len(y))\n",
    "    for i in range(len(X) - time_steps - 1):\n",
    "        X_list.append(X[i:(i + time_steps), :])\n",
    "        y_list.append(y[(i + 1):(i + time_steps + 1)])\n",
    "    return np.array(X_list), np.array(y_list)\n",
    "\n",
    "train_X, train_y = create_LSTM_dataset(X_train_selected, y_train)\n",
    "test_X, test_y = create_LSTM_dataset(X_test_selected, y_test)\n",
    "\n",
    "#print train_X.shape, train_y.shape, test_X.shape, test_y.shape"
   ]
  },
  {
   "cell_type": "code",
   "execution_count": 24,
   "metadata": {},
   "outputs": [
    {
     "data": {
      "text/plain": [
       "((799, 20, 6), (799, 20), (185, 20, 6), (185, 20))"
      ]
     },
     "execution_count": 24,
     "metadata": {},
     "output_type": "execute_result"
    }
   ],
   "source": [
    "train_X.shape, train_y.shape, test_X.shape, test_y.shape"
   ]
  },
  {
   "cell_type": "markdown",
   "metadata": {},
   "source": [
    "### 定义LSTM模型"
   ]
  },
  {
   "cell_type": "code",
   "execution_count": 56,
   "metadata": {},
   "outputs": [],
   "source": [
    "from keras.models import Sequential, Model\n",
    "from keras.layers import Input, Dense, LSTM, Dropout, BatchNormalization\n",
    "\n",
    "def create_LSTM_model(lstm_neurons, dense_neurons, input_shape=[20, K],\n",
    "                     initializers='glorot_uniform', dropout_prob=0.5, \n",
    "                     optimizers='adam', activations='sigmoid'):\n",
    "    ''' 定义LSTM模型结构\n",
    "    Args:\n",
    "    ----------------------------------------------------------------------\n",
    "        lstm_neurons: int, LSTM层的神经元数量\n",
    "        dense_neurons: int, Dense全连接层的神经元数量\n",
    "        input_shape: 2D-array, 输入层的数据维度\n",
    "        initializers: str, 权重初始化方法\n",
    "        dropout_prob: float, Dropout层的保留比例\n",
    "        optimizers: str, 优化方法\n",
    "        activations: str, 激活函数\n",
    "    \n",
    "    Returns:\n",
    "    ----------------------------------------------------------------------\n",
    "        model: keras.models.Model, 定义好的深度学习模型\n",
    "    '''\n",
    "    inputs = Input(shape=input_shape)\n",
    "\n",
    "    x = LSTM(lstm_neurons, kernel_initializer=initializers, dropout=0.75)(inputs)\n",
    "    x = Dense(dense_neurons, kernel_initializer=initializers, activation='relu')(x)\n",
    "\n",
    "    if 0 < dropout_prob < 1:\n",
    "        x = Dropout(dropout_prob)(x)\n",
    "\n",
    "    outputs = Dense(input_shape[0], kernel_initializer=initializers, activation=activations)(x)\n",
    "\n",
    "    model = Model(inputs=inputs, outputs=outputs)\n",
    "    model.compile(optimizer=optimizers, loss='binary_crossentropy', metrics=['accuracy'])\n",
    "    return model\n"
   ]
  },
  {
   "cell_type": "code",
   "execution_count": 62,
   "metadata": {
    "scrolled": true
   },
   "outputs": [
    {
     "name": "stdout",
     "output_type": "stream",
     "text": [
      "Train on 799 samples, validate on 185 samples\n",
      "Epoch 1/20\n",
      "4s - loss: 0.6953 - acc: 0.4947 - val_loss: 0.6928 - val_acc: 0.5159\n",
      "Epoch 2/20\n",
      "3s - loss: 0.6933 - acc: 0.5048 - val_loss: 0.6927 - val_acc: 0.5073\n",
      "Epoch 3/20\n",
      "3s - loss: 0.6935 - acc: 0.5066 - val_loss: 0.6927 - val_acc: 0.5027\n",
      "Epoch 4/20\n",
      "3s - loss: 0.6933 - acc: 0.5118 - val_loss: 0.6924 - val_acc: 0.5092\n",
      "Epoch 5/20\n",
      "3s - loss: 0.6926 - acc: 0.5177 - val_loss: 0.6923 - val_acc: 0.5162\n",
      "Epoch 6/20\n",
      "3s - loss: 0.6923 - acc: 0.5175 - val_loss: 0.6921 - val_acc: 0.5159\n",
      "Epoch 7/20\n",
      "3s - loss: 0.6923 - acc: 0.5145 - val_loss: 0.6918 - val_acc: 0.5238\n",
      "Epoch 8/20\n",
      "3s - loss: 0.6912 - acc: 0.5223 - val_loss: 0.6903 - val_acc: 0.5435\n",
      "Epoch 9/20\n",
      "3s - loss: 0.6892 - acc: 0.5288 - val_loss: 0.6891 - val_acc: 0.5405\n",
      "Epoch 10/20\n",
      "3s - loss: 0.6873 - acc: 0.5364 - val_loss: 0.6884 - val_acc: 0.5443\n",
      "Epoch 11/20\n",
      "3s - loss: 0.6884 - acc: 0.5392 - val_loss: 0.6869 - val_acc: 0.5500\n",
      "Epoch 12/20\n",
      "3s - loss: 0.6870 - acc: 0.5421 - val_loss: 0.6860 - val_acc: 0.5435\n",
      "Epoch 13/20\n",
      "3s - loss: 0.6849 - acc: 0.5407 - val_loss: 0.6840 - val_acc: 0.5527\n",
      "Epoch 14/20\n",
      "3s - loss: 0.6850 - acc: 0.5384 - val_loss: 0.6855 - val_acc: 0.5449\n",
      "Epoch 15/20\n",
      "3s - loss: 0.6834 - acc: 0.5486 - val_loss: 0.6840 - val_acc: 0.5527\n",
      "Epoch 16/20\n",
      "3s - loss: 0.6816 - acc: 0.5574 - val_loss: 0.6879 - val_acc: 0.5470\n",
      "Epoch 17/20\n",
      "3s - loss: 0.6814 - acc: 0.5527 - val_loss: 0.6893 - val_acc: 0.5465\n",
      "Epoch 18/20\n",
      "3s - loss: 0.6805 - acc: 0.5560 - val_loss: 0.6801 - val_acc: 0.5568\n",
      "Epoch 19/20\n",
      "3s - loss: 0.6787 - acc: 0.5638 - val_loss: 0.6830 - val_acc: 0.5549\n",
      "Epoch 20/20\n",
      "3s - loss: 0.6786 - acc: 0.5656 - val_loss: 0.6840 - val_acc: 0.5514\n"
     ]
    }
   ],
   "source": [
    "# 单独训练一次试试\n",
    "model = create_LSTM_model(input_shape=[20, K], lstm_neurons=128, dense_neurons=64)\n",
    "history = model.fit(train_X, train_y, \n",
    "                    epochs=20, verbose=2, batch_size=16, shuffle=False, \n",
    "                    validation_data=(test_X, test_y))"
   ]
  },
  {
   "cell_type": "markdown",
   "metadata": {},
   "source": [
    "#### 模型预测"
   ]
  },
  {
   "cell_type": "code",
   "execution_count": 122,
   "metadata": {
    "collapsed": true
   },
   "outputs": [],
   "source": [
    "train_pred = model.predict(train_X) # 训练集的预测结果\n",
    "test_pred = model.predict(test_X)   # 测试集的预测结果"
   ]
  },
  {
   "cell_type": "code",
   "execution_count": 123,
   "metadata": {},
   "outputs": [],
   "source": [
    "z_test = test_pred[:, -1]           # 预测结果的最后一列，明天的预测结果（涨/跌）\n",
    "y_test = test_y[:, -1]              # 真实结果的最后一列，明天的真实结果（涨/跌）"
   ]
  },
  {
   "cell_type": "code",
   "execution_count": 124,
   "metadata": {},
   "outputs": [
    {
     "data": {
      "text/plain": [
       "98"
      ]
     },
     "execution_count": 124,
     "metadata": {},
     "output_type": "execute_result"
    }
   ],
   "source": [
    "z_test_round = np.round(z_test)     # 统计预测结果与真实结果相等的次数\n",
    "sum(z_test_round == y_test)"
   ]
  },
  {
   "cell_type": "code",
   "execution_count": 125,
   "metadata": {},
   "outputs": [
    {
     "name": "stdout",
     "output_type": "stream",
     "text": [
      "RangeIndex(start=0, stop=1026, step=1) RangeIndex(start=841, stop=1026, step=1)\n"
     ]
    }
   ],
   "source": [
    "index = new_df.index\n",
    "z_test_index = index[-len(z_test):]  # \n",
    "print index, z_test_index"
   ]
  },
  {
   "cell_type": "markdown",
   "metadata": {},
   "source": [
    "## 量化策略"
   ]
  },
  {
   "cell_type": "code",
   "execution_count": 126,
   "metadata": {},
   "outputs": [],
   "source": [
    "capital = 100000    # 初始资金\n",
    "is_hold = False     # 是否持仓\n",
    "GG = 1              # 杠杆比率\n",
    "\n",
    "capital_list = list()\n",
    "\n",
    "for i, pred in enumerate(z_test):\n",
    "    index = z_test_index[i]\n",
    "    close_price = new_df.loc[index-1, 'close']\n",
    "    # 如果未持仓，且预测信号为大概率涨，则以前一个交易日的收盘价全仓买入\n",
    "    if not is_hold and pred > 0.52:\n",
    "        buy_price = new_df.loc[index-1, 'close']\n",
    "        buy_num = GG * capital // buy_price # 加杠杆买入（未考虑交易手续费/爆仓/交易手数）\n",
    "        is_hold = True\n",
    "    \n",
    "    # 如果持仓，且预测信号为大概率跌，则以前一个交易日的收盘价全仓卖出\n",
    "    elif is_hold and pred < 0.43:\n",
    "        sell_price = new_df.loc[index-1, 'close']\n",
    "        capital += buy_num * (close_price - new_df.loc[index-2, 'close'])\n",
    "        is_hold = False\n",
    "    \n",
    "    # 如果持仓，且无需操作，则统计每日资本额\n",
    "    elif is_hold:\n",
    "        capital += buy_num * (close_price - new_df.loc[index-2, 'close'])\n",
    "    else:\n",
    "        pass\n",
    "    \n",
    "    capital_list.append(capital)\n"
   ]
  },
  {
   "cell_type": "code",
   "execution_count": 127,
   "metadata": {
    "collapsed": true
   },
   "outputs": [],
   "source": [
    "# 基准策略：以第一天的开盘价买入，持有不动\n",
    "begin_index = z_test_index[0] - 1\n",
    "base_gain = new_df.loc[z_test_index, 'close'] / new_df.loc[begin_index, 'open']\n",
    "\n",
    "# 量化策略：\n",
    "quantitative_gain = np.array(capital_list) / 100000.0"
   ]
  },
  {
   "cell_type": "code",
   "execution_count": 128,
   "metadata": {},
   "outputs": [
    {
     "data": {
      "image/png": "[encoded data removed]",
      "text/plain": [
       "<matplotlib.figure.Figure at 0x124258710>"
      ]
     },
     "metadata": {},
     "output_type": "display_data"
    }
   ],
   "source": [
    "import matplotlib.pyplot as plt \n",
    "%matplotlib inline\n",
    "\n",
    "plt.figure(figsize=(16, 8))\n",
    "plt.plot(quantitative_gain, '-*', label='Quantitative-strategy')  # 量化策略\n",
    "plt.plot(base_gain.values, '--', label='Base-Strategy')           # 基准策略\n",
    "plt.legend(loc='upper left')\n",
    "plt.grid(True)\n",
    "plt.show()"
   ]
  },
  {
   "cell_type": "code",
   "execution_count": null,
   "metadata": {
    "collapsed": true
   },
   "outputs": [],
   "source": []
  }
 ],
 "metadata": {
  "kernelspec": {
   "display_name": "Python 3",
   "language": "python",
   "name": "python3"
  },
  "language_info": {
   "codemirror_mode": {
    "name": "ipython",
    "version": 3
   },
   "file_extension": ".py",
   "mimetype": "text/x-python",
   "name": "python",
   "nbconvert_exporter": "python",
   "pygments_lexer": "ipython3",
   "version": "3.6.5"
  }
 },
 "nbformat": 4,
 "nbformat_minor": 2
}
